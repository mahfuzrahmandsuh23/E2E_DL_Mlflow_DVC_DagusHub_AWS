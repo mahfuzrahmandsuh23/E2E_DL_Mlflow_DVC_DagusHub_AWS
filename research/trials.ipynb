{
 "cells": [
  {
   "cell_type": "code",
   "execution_count": 1,
   "metadata": {},
   "outputs": [],
   "source": [
    "import gdown\n"
   ]
  },
  {
   "cell_type": "code",
   "execution_count": 16,
   "metadata": {},
   "outputs": [],
   "source": [
    "urll=\"https://drive.google.com/file/d/1IsC56iMQLMaWbmNibuhXqU9JjWLieG56/view?usp=sharing\""
   ]
  },
  {
   "cell_type": "code",
   "execution_count": 17,
   "metadata": {},
   "outputs": [
    {
     "data": {
      "text/plain": [
       "str"
      ]
     },
     "execution_count": 17,
     "metadata": {},
     "output_type": "execute_result"
    }
   ],
   "source": [
    "type(urll)"
   ]
  },
  {
   "cell_type": "code",
   "execution_count": 19,
   "metadata": {},
   "outputs": [
    {
     "data": {
      "text/plain": [
       "'1IsC56iMQLMaWbmNibuhXqU9JjWLieG56'"
      ]
     },
     "execution_count": 19,
     "metadata": {},
     "output_type": "execute_result"
    }
   ],
   "source": [
    "file_id1=urll.split(\"/\")[-2]\n",
    "file_id1"
   ]
  },
  {
   "cell_type": "code",
   "execution_count": 20,
   "metadata": {},
   "outputs": [
    {
     "name": "stderr",
     "output_type": "stream",
     "text": [
      "Downloading...\n",
      "From (original): https://drive.google.com/uc?/export=download&id=1IsC56iMQLMaWbmNibuhXqU9JjWLieG56\n",
      "From (redirected): https://drive.google.com/uc?%2Fexport=download&id=1IsC56iMQLMaWbmNibuhXqU9JjWLieG56&confirm=t&uuid=1f5592ea-a26d-4e62-ae2d-888f8536e2af\n",
      "To: /Users/mahikhan/Documents/MLOps_E2E/E2EDL_CICD_mlflow/E2E_DL_Mlflow_DVC_DagusHub_AWS/research/Chest-CT-Scan-data.zip\n",
      "100%|██████████| 49.0M/49.0M [00:03<00:00, 13.8MB/s]\n"
     ]
    },
    {
     "data": {
      "text/plain": [
       "'Chest-CT-Scan-data.zip'"
      ]
     },
     "execution_count": 20,
     "metadata": {},
     "output_type": "execute_result"
    }
   ],
   "source": [
    "import gdown\n",
    "\n",
    "file_id = \"1IsC56iMQLMaWbmNibuhXqU9JjWLieG56\"  # ← your real file ID\n",
    "prefix = \"https://drive.google.com/uc?/export=download&id=\"\n",
    "url = prefix + file_id\n",
    "\n",
    "gdown.download(url, output=\"Chest-CT-Scan-data.zip\", quiet=False)\n"
   ]
  }
 ],
 "metadata": {
  "kernelspec": {
   "display_name": "Python 3",
   "language": "python",
   "name": "python3"
  },
  "language_info": {
   "codemirror_mode": {
    "name": "ipython",
    "version": 3
   },
   "file_extension": ".py",
   "mimetype": "text/x-python",
   "name": "python",
   "nbconvert_exporter": "python",
   "pygments_lexer": "ipython3",
   "version": "3.10.0"
  }
 },
 "nbformat": 4,
 "nbformat_minor": 2
}
