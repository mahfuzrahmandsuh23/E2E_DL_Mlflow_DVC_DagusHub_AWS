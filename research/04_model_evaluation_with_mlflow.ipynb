{
 "cells": [
  {
   "cell_type": "code",
   "execution_count": 1,
   "metadata": {},
   "outputs": [],
   "source": [
    "import os"
   ]
  },
  {
   "cell_type": "code",
   "execution_count": 2,
   "metadata": {},
   "outputs": [
    {
     "data": {
      "text/plain": [
       "'/Users/mahikhan/Documents/MLOps_E2E/E2EDL_CICD_mlflow/E2E_DL_Mlflow_DVC_DagusHub_AWS/research'"
      ]
     },
     "execution_count": 2,
     "metadata": {},
     "output_type": "execute_result"
    }
   ],
   "source": [
    "%pwd"
   ]
  },
  {
   "cell_type": "code",
   "execution_count": 3,
   "metadata": {},
   "outputs": [],
   "source": [
    "os.chdir(\"../\")"
   ]
  },
  {
   "cell_type": "code",
   "execution_count": 4,
   "metadata": {},
   "outputs": [
    {
     "data": {
      "text/plain": [
       "'/Users/mahikhan/Documents/MLOps_E2E/E2EDL_CICD_mlflow/E2E_DL_Mlflow_DVC_DagusHub_AWS'"
      ]
     },
     "execution_count": 4,
     "metadata": {},
     "output_type": "execute_result"
    }
   ],
   "source": [
    "%pwd"
   ]
  },
  {
   "cell_type": "code",
   "execution_count": 5,
   "metadata": {},
   "outputs": [
    {
     "name": "stdout",
     "output_type": "stream",
     "text": [
      "Requirement already satisfied: dagshub in /Users/mahikhan/Downloads/anaconda3/envs/dlvenv/lib/python3.10/site-packages (0.5.10)\n",
      "Requirement already satisfied: PyYAML>=5 in /Users/mahikhan/Downloads/anaconda3/envs/dlvenv/lib/python3.10/site-packages (from dagshub) (6.0.2)\n",
      "Requirement already satisfied: appdirs>=1.4.4 in /Users/mahikhan/Downloads/anaconda3/envs/dlvenv/lib/python3.10/site-packages (from dagshub) (1.4.4)\n",
      "Requirement already satisfied: click>=8.0.4 in /Users/mahikhan/Downloads/anaconda3/envs/dlvenv/lib/python3.10/site-packages (from dagshub) (8.2.1)\n",
      "Requirement already satisfied: httpx>=0.23.0 in /Users/mahikhan/Downloads/anaconda3/envs/dlvenv/lib/python3.10/site-packages (from dagshub) (0.28.1)\n",
      "Requirement already satisfied: GitPython>=3.1.29 in /Users/mahikhan/Downloads/anaconda3/envs/dlvenv/lib/python3.10/site-packages (from dagshub) (3.1.44)\n",
      "Requirement already satisfied: rich>=13.1.0 in /Users/mahikhan/Downloads/anaconda3/envs/dlvenv/lib/python3.10/site-packages (from dagshub) (14.0.0)\n",
      "Requirement already satisfied: dacite~=1.6.0 in /Users/mahikhan/Downloads/anaconda3/envs/dlvenv/lib/python3.10/site-packages (from dagshub) (1.6.0)\n",
      "Requirement already satisfied: tenacity>=8.2.2 in /Users/mahikhan/Downloads/anaconda3/envs/dlvenv/lib/python3.10/site-packages (from dagshub) (9.1.2)\n",
      "Requirement already satisfied: gql[requests] in /Users/mahikhan/Downloads/anaconda3/envs/dlvenv/lib/python3.10/site-packages (from dagshub) (3.5.3)\n",
      "Requirement already satisfied: dataclasses-json in /Users/mahikhan/Downloads/anaconda3/envs/dlvenv/lib/python3.10/site-packages (from dagshub) (0.6.7)\n",
      "Requirement already satisfied: pandas in /Users/mahikhan/Downloads/anaconda3/envs/dlvenv/lib/python3.10/site-packages (from dagshub) (2.3.1)\n",
      "Requirement already satisfied: treelib>=1.6.4 in /Users/mahikhan/Downloads/anaconda3/envs/dlvenv/lib/python3.10/site-packages (from dagshub) (1.8.0)\n",
      "Requirement already satisfied: pathvalidate>=3.0.0 in /Users/mahikhan/Downloads/anaconda3/envs/dlvenv/lib/python3.10/site-packages (from dagshub) (3.3.1)\n",
      "Requirement already satisfied: python-dateutil in /Users/mahikhan/Downloads/anaconda3/envs/dlvenv/lib/python3.10/site-packages (from dagshub) (2.9.0.post0)\n",
      "Requirement already satisfied: boto3 in /Users/mahikhan/Downloads/anaconda3/envs/dlvenv/lib/python3.10/site-packages (from dagshub) (1.39.4)\n",
      "Requirement already satisfied: semver in /Users/mahikhan/Downloads/anaconda3/envs/dlvenv/lib/python3.10/site-packages (from dagshub) (3.0.4)\n",
      "Requirement already satisfied: dagshub-annotation-converter>=0.1.5 in /Users/mahikhan/Downloads/anaconda3/envs/dlvenv/lib/python3.10/site-packages (from dagshub) (0.1.10)\n",
      "Requirement already satisfied: lxml in /Users/mahikhan/Downloads/anaconda3/envs/dlvenv/lib/python3.10/site-packages (from dagshub-annotation-converter>=0.1.5->dagshub) (6.0.0)\n",
      "Requirement already satisfied: pillow in /Users/mahikhan/Downloads/anaconda3/envs/dlvenv/lib/python3.10/site-packages (from dagshub-annotation-converter>=0.1.5->dagshub) (11.3.0)\n",
      "Requirement already satisfied: pydantic>=2.0.0 in /Users/mahikhan/Downloads/anaconda3/envs/dlvenv/lib/python3.10/site-packages (from dagshub-annotation-converter>=0.1.5->dagshub) (2.11.7)\n",
      "Requirement already satisfied: typing-extensions in /Users/mahikhan/Downloads/anaconda3/envs/dlvenv/lib/python3.10/site-packages (from dagshub-annotation-converter>=0.1.5->dagshub) (4.14.1)\n",
      "Requirement already satisfied: gitdb<5,>=4.0.1 in /Users/mahikhan/Downloads/anaconda3/envs/dlvenv/lib/python3.10/site-packages (from GitPython>=3.1.29->dagshub) (4.0.12)\n",
      "Requirement already satisfied: smmap<6,>=3.0.1 in /Users/mahikhan/Downloads/anaconda3/envs/dlvenv/lib/python3.10/site-packages (from gitdb<5,>=4.0.1->GitPython>=3.1.29->dagshub) (5.0.2)\n",
      "Requirement already satisfied: anyio in /Users/mahikhan/Downloads/anaconda3/envs/dlvenv/lib/python3.10/site-packages (from httpx>=0.23.0->dagshub) (4.9.0)\n",
      "Requirement already satisfied: certifi in /Users/mahikhan/Downloads/anaconda3/envs/dlvenv/lib/python3.10/site-packages (from httpx>=0.23.0->dagshub) (2025.7.9)\n",
      "Requirement already satisfied: httpcore==1.* in /Users/mahikhan/Downloads/anaconda3/envs/dlvenv/lib/python3.10/site-packages (from httpx>=0.23.0->dagshub) (1.0.9)\n",
      "Requirement already satisfied: idna in /Users/mahikhan/Downloads/anaconda3/envs/dlvenv/lib/python3.10/site-packages (from httpx>=0.23.0->dagshub) (3.10)\n",
      "Requirement already satisfied: h11>=0.16 in /Users/mahikhan/Downloads/anaconda3/envs/dlvenv/lib/python3.10/site-packages (from httpcore==1.*->httpx>=0.23.0->dagshub) (0.16.0)\n",
      "Requirement already satisfied: annotated-types>=0.6.0 in /Users/mahikhan/Downloads/anaconda3/envs/dlvenv/lib/python3.10/site-packages (from pydantic>=2.0.0->dagshub-annotation-converter>=0.1.5->dagshub) (0.7.0)\n",
      "Requirement already satisfied: pydantic-core==2.33.2 in /Users/mahikhan/Downloads/anaconda3/envs/dlvenv/lib/python3.10/site-packages (from pydantic>=2.0.0->dagshub-annotation-converter>=0.1.5->dagshub) (2.33.2)\n",
      "Requirement already satisfied: typing-inspection>=0.4.0 in /Users/mahikhan/Downloads/anaconda3/envs/dlvenv/lib/python3.10/site-packages (from pydantic>=2.0.0->dagshub-annotation-converter>=0.1.5->dagshub) (0.4.1)\n",
      "Requirement already satisfied: markdown-it-py>=2.2.0 in /Users/mahikhan/Downloads/anaconda3/envs/dlvenv/lib/python3.10/site-packages (from rich>=13.1.0->dagshub) (3.0.0)\n",
      "Requirement already satisfied: pygments<3.0.0,>=2.13.0 in /Users/mahikhan/Downloads/anaconda3/envs/dlvenv/lib/python3.10/site-packages (from rich>=13.1.0->dagshub) (2.19.2)\n",
      "Requirement already satisfied: mdurl~=0.1 in /Users/mahikhan/Downloads/anaconda3/envs/dlvenv/lib/python3.10/site-packages (from markdown-it-py>=2.2.0->rich>=13.1.0->dagshub) (0.1.2)\n",
      "Requirement already satisfied: six>=1.13.0 in /Users/mahikhan/Downloads/anaconda3/envs/dlvenv/lib/python3.10/site-packages (from treelib>=1.6.4->dagshub) (1.17.0)\n",
      "Requirement already satisfied: exceptiongroup>=1.0.2 in /Users/mahikhan/Downloads/anaconda3/envs/dlvenv/lib/python3.10/site-packages (from anyio->httpx>=0.23.0->dagshub) (1.3.0)\n",
      "Requirement already satisfied: sniffio>=1.1 in /Users/mahikhan/Downloads/anaconda3/envs/dlvenv/lib/python3.10/site-packages (from anyio->httpx>=0.23.0->dagshub) (1.3.1)\n",
      "Requirement already satisfied: botocore<1.40.0,>=1.39.4 in /Users/mahikhan/Downloads/anaconda3/envs/dlvenv/lib/python3.10/site-packages (from boto3->dagshub) (1.39.4)\n",
      "Requirement already satisfied: jmespath<2.0.0,>=0.7.1 in /Users/mahikhan/Downloads/anaconda3/envs/dlvenv/lib/python3.10/site-packages (from boto3->dagshub) (1.0.1)\n",
      "Requirement already satisfied: s3transfer<0.14.0,>=0.13.0 in /Users/mahikhan/Downloads/anaconda3/envs/dlvenv/lib/python3.10/site-packages (from boto3->dagshub) (0.13.0)\n",
      "Requirement already satisfied: urllib3!=2.2.0,<3,>=1.25.4 in /Users/mahikhan/Downloads/anaconda3/envs/dlvenv/lib/python3.10/site-packages (from botocore<1.40.0,>=1.39.4->boto3->dagshub) (2.5.0)\n",
      "Requirement already satisfied: marshmallow<4.0.0,>=3.18.0 in /Users/mahikhan/Downloads/anaconda3/envs/dlvenv/lib/python3.10/site-packages (from dataclasses-json->dagshub) (3.26.1)\n",
      "Requirement already satisfied: typing-inspect<1,>=0.4.0 in /Users/mahikhan/Downloads/anaconda3/envs/dlvenv/lib/python3.10/site-packages (from dataclasses-json->dagshub) (0.9.0)\n",
      "Requirement already satisfied: packaging>=17.0 in /Users/mahikhan/Downloads/anaconda3/envs/dlvenv/lib/python3.10/site-packages (from marshmallow<4.0.0,>=3.18.0->dataclasses-json->dagshub) (23.2)\n",
      "Requirement already satisfied: mypy-extensions>=0.3.0 in /Users/mahikhan/Downloads/anaconda3/envs/dlvenv/lib/python3.10/site-packages (from typing-inspect<1,>=0.4.0->dataclasses-json->dagshub) (1.1.0)\n",
      "Requirement already satisfied: graphql-core<3.2.7,>=3.2 in /Users/mahikhan/Downloads/anaconda3/envs/dlvenv/lib/python3.10/site-packages (from gql[requests]->dagshub) (3.2.6)\n",
      "Requirement already satisfied: yarl<2.0,>=1.6 in /Users/mahikhan/Downloads/anaconda3/envs/dlvenv/lib/python3.10/site-packages (from gql[requests]->dagshub) (1.20.1)\n",
      "Requirement already satisfied: backoff<3.0,>=1.11.1 in /Users/mahikhan/Downloads/anaconda3/envs/dlvenv/lib/python3.10/site-packages (from gql[requests]->dagshub) (2.2.1)\n",
      "Requirement already satisfied: requests<3,>=2.26 in /Users/mahikhan/Downloads/anaconda3/envs/dlvenv/lib/python3.10/site-packages (from gql[requests]->dagshub) (2.32.4)\n",
      "Requirement already satisfied: requests-toolbelt<2,>=1.0.0 in /Users/mahikhan/Downloads/anaconda3/envs/dlvenv/lib/python3.10/site-packages (from gql[requests]->dagshub) (1.0.0)\n",
      "Requirement already satisfied: charset_normalizer<4,>=2 in /Users/mahikhan/Downloads/anaconda3/envs/dlvenv/lib/python3.10/site-packages (from requests<3,>=2.26->gql[requests]->dagshub) (3.4.2)\n",
      "Requirement already satisfied: multidict>=4.0 in /Users/mahikhan/Downloads/anaconda3/envs/dlvenv/lib/python3.10/site-packages (from yarl<2.0,>=1.6->gql[requests]->dagshub) (6.6.3)\n",
      "Requirement already satisfied: propcache>=0.2.1 in /Users/mahikhan/Downloads/anaconda3/envs/dlvenv/lib/python3.10/site-packages (from yarl<2.0,>=1.6->gql[requests]->dagshub) (0.3.2)\n",
      "Requirement already satisfied: numpy>=1.22.4 in /Users/mahikhan/Downloads/anaconda3/envs/dlvenv/lib/python3.10/site-packages (from pandas->dagshub) (1.26.4)\n",
      "Requirement already satisfied: pytz>=2020.1 in /Users/mahikhan/Downloads/anaconda3/envs/dlvenv/lib/python3.10/site-packages (from pandas->dagshub) (2022.7.1)\n",
      "Requirement already satisfied: tzdata>=2022.7 in /Users/mahikhan/Downloads/anaconda3/envs/dlvenv/lib/python3.10/site-packages (from pandas->dagshub) (2025.2)\n",
      "Note: you may need to restart the kernel to use updated packages.\n"
     ]
    }
   ],
   "source": [
    "pip install dagshub"
   ]
  },
  {
   "cell_type": "code",
   "execution_count": 6,
   "metadata": {},
   "outputs": [
    {
     "data": {
      "text/html": [
       "<pre style=\"white-space:pre;overflow-x:auto;line-height:normal;font-family:Menlo,'DejaVu Sans Mono',consolas,'Courier New',monospace\">Accessing as mahfuzrahmandsuh23\n",
       "</pre>\n"
      ],
      "text/plain": [
       "Accessing as mahfuzrahmandsuh23\n"
      ]
     },
     "metadata": {},
     "output_type": "display_data"
    },
    {
     "data": {
      "text/html": [
       "<pre style=\"white-space:pre;overflow-x:auto;line-height:normal;font-family:Menlo,'DejaVu Sans Mono',consolas,'Courier New',monospace\">Initialized MLflow to track repo <span style=\"color: #008000; text-decoration-color: #008000\">\"mahfuzrahmandsuh23/E2E_DL_Mlflow_DVC_DagusHub_AWS\"</span>\n",
       "</pre>\n"
      ],
      "text/plain": [
       "Initialized MLflow to track repo \u001b[32m\"mahfuzrahmandsuh23/E2E_DL_Mlflow_DVC_DagusHub_AWS\"\u001b[0m\n"
      ]
     },
     "metadata": {},
     "output_type": "display_data"
    },
    {
     "data": {
      "text/html": [
       "<pre style=\"white-space:pre;overflow-x:auto;line-height:normal;font-family:Menlo,'DejaVu Sans Mono',consolas,'Courier New',monospace\">Repository mahfuzrahmandsuh23/E2E_DL_Mlflow_DVC_DagusHub_AWS initialized!\n",
       "</pre>\n"
      ],
      "text/plain": [
       "Repository mahfuzrahmandsuh23/E2E_DL_Mlflow_DVC_DagusHub_AWS initialized!\n"
      ]
     },
     "metadata": {},
     "output_type": "display_data"
    }
   ],
   "source": [
    "import dagshub\n",
    "\n",
    "dagshub.init(\n",
    "    repo_owner='mahfuzrahmandsuh23',\n",
    "    repo_name='E2E_DL_Mlflow_DVC_DagusHub_AWS',\n",
    "    mlflow=True\n",
    ")\n"
   ]
  },
  {
   "cell_type": "code",
   "execution_count": 7,
   "metadata": {},
   "outputs": [],
   "source": [
    "import tensorflow as tf"
   ]
  },
  {
   "cell_type": "code",
   "execution_count": 8,
   "metadata": {},
   "outputs": [
    {
     "name": "stderr",
     "output_type": "stream",
     "text": [
      "WARNING:absl:Compiled the loaded model, but the compiled metrics have yet to be built. `model.compile_metrics` will be empty until you train or evaluate the model.\n"
     ]
    }
   ],
   "source": [
    "model = tf.keras.models.load_model(\"artifacts/training/model.h5\")"
   ]
  },
  {
   "cell_type": "code",
   "execution_count": 9,
   "metadata": {},
   "outputs": [
    {
     "name": "stdout",
     "output_type": "stream",
     "text": [
      "<Functional name=functional, built=True>\n"
     ]
    }
   ],
   "source": [
    "print(model)"
   ]
  },
  {
   "cell_type": "code",
   "execution_count": 10,
   "metadata": {},
   "outputs": [],
   "source": [
    "from dataclasses import dataclass\n",
    "from pathlib import Path\n",
    "\n",
    "@dataclass(frozen=True)\n",
    "class EvaluationConfig:\n",
    "    path_of_model: Path\n",
    "    training_data: Path\n",
    "    all_params: dict\n",
    "    mlflow_uri: str\n",
    "    params_image_size: list\n",
    "    params_batch_size: int"
   ]
  },
  {
   "cell_type": "code",
   "execution_count": 11,
   "metadata": {},
   "outputs": [],
   "source": [
    "from cnnClassifier.constants import *\n",
    "from cnnClassifier.utils.common import read_yaml, create_directories, save_json"
   ]
  },
  {
   "cell_type": "code",
   "execution_count": 12,
   "metadata": {},
   "outputs": [],
   "source": [
    "class ConfigurationManager:\n",
    "    def __init__(\n",
    "        self, \n",
    "        config_filepath = CONFIG_FILE_PATH,\n",
    "        params_filepath = PARAMS_FILE_PATH):\n",
    "        self.config = read_yaml(config_filepath)\n",
    "        self.params = read_yaml(params_filepath)\n",
    "        create_directories([self.config.artifacts_root])\n",
    "\n",
    "    \n",
    "    def get_evaluation_config(self) -> EvaluationConfig:\n",
    "        eval_config = EvaluationConfig(\n",
    "            path_of_model=\"artifacts/training/model.h5\",\n",
    "            training_data=\"artifacts/data_ingestion/Chest-CT-Scan-data\",\n",
    "            mlflow_uri=\"https://dagshub.com/mahfuzrahmandsuh23/E2E_DL_Mlflow_DVC_DagusHub_AWS.mlflow\",\n",
    "            all_params=self.params,\n",
    "            params_image_size=self.params.IMAGE_SIZE,\n",
    "            params_batch_size=self.params.BATCH_SIZE\n",
    "        )\n",
    "        return eval_config\n",
    "\n",
    "\n"
   ]
  },
  {
   "cell_type": "code",
   "execution_count": 13,
   "metadata": {},
   "outputs": [],
   "source": [
    "import tensorflow as tf\n",
    "from pathlib import Path\n",
    "import mlflow\n",
    "import mlflow.keras\n",
    "from urllib.parse import urlparse"
   ]
  },
  {
   "cell_type": "code",
   "execution_count": 14,
   "metadata": {},
   "outputs": [],
   "source": [
    "class Evaluation:\n",
    "    def __init__(self, config: EvaluationConfig):\n",
    "        self.config = config\n",
    "\n",
    "    \n",
    "    def _valid_generator(self):\n",
    "\n",
    "        datagenerator_kwargs = dict(\n",
    "            rescale = 1./255,\n",
    "            validation_split=0.30\n",
    "        )\n",
    "\n",
    "        dataflow_kwargs = dict(\n",
    "            target_size=self.config.params_image_size[:-1],\n",
    "            batch_size=self.config.params_batch_size,\n",
    "            interpolation=\"bilinear\"\n",
    "        )\n",
    "\n",
    "        valid_datagenerator = tf.keras.preprocessing.image.ImageDataGenerator(\n",
    "            **datagenerator_kwargs\n",
    "        )\n",
    "\n",
    "        self.valid_generator = valid_datagenerator.flow_from_directory(\n",
    "            directory=self.config.training_data,\n",
    "            subset=\"validation\",\n",
    "            shuffle=False,\n",
    "            **dataflow_kwargs\n",
    "        )\n",
    "\n",
    "\n",
    "    @staticmethod\n",
    "    def load_model(path: Path) -> tf.keras.Model:\n",
    "        return tf.keras.models.load_model(path)\n",
    "    \n",
    "\n",
    "    def evaluation(self):\n",
    "        self.model = self.load_model(self.config.path_of_model)\n",
    "        self._valid_generator()\n",
    "        self.score = model.evaluate(self.valid_generator)\n",
    "        self.save_score()\n",
    "\n",
    "    def save_score(self):\n",
    "        scores = {\"loss\": self.score[0], \"accuracy\": self.score[1]}\n",
    "        save_json(path=Path(\"scores.json\"), data=scores)\n",
    "\n",
    "    \n",
    "    def log_into_mlflow(self):\n",
    "        mlflow.set_registry_uri(self.config.mlflow_uri)\n",
    "        tracking_url_type_store = urlparse(mlflow.get_tracking_uri()).scheme\n",
    "        \n",
    "        with mlflow.start_run():\n",
    "            mlflow.log_params(self.config.all_params)\n",
    "            mlflow.log_metrics(\n",
    "                {\"loss\": self.score[0], \"accuracy\": self.score[1]}\n",
    "            )\n",
    "            # Model registry does not work with file store\n",
    "            if tracking_url_type_store != \"file\":\n",
    "\n",
    "                # Register the model\n",
    "                # There are other ways to use the Model Registry, which depends on the use case,\n",
    "                # please refer to the doc for more information:\n",
    "                # https://mlflow.org/docs/latest/model-registry.html#api-workflow\n",
    "                mlflow.keras.log_model(self.model,artifact_path=\"model\",registered_model_name=\"VGG16Model\",keras_model_kwargs={\"save_format\": \"h5\"})\n",
    "\n",
    "            else:\n",
    "                mlflow.keras.log_model(self.model, \"model\")\n"
   ]
  },
  {
   "cell_type": "code",
   "execution_count": 15,
   "metadata": {},
   "outputs": [
    {
     "name": "stderr",
     "output_type": "stream",
     "text": [
      "WARNING:absl:Compiled the loaded model, but the compiled metrics have yet to be built. `model.compile_metrics` will be empty until you train or evaluate the model.\n"
     ]
    },
    {
     "name": "stdout",
     "output_type": "stream",
     "text": [
      "Found 102 images belonging to 2 classes.\n"
     ]
    },
    {
     "name": "stderr",
     "output_type": "stream",
     "text": [
      "/Users/mahikhan/Downloads/anaconda3/envs/dlvenv/lib/python3.10/site-packages/keras/src/trainers/data_adapters/py_dataset_adapter.py:121: UserWarning: Your `PyDataset` class should call `super().__init__(**kwargs)` in its constructor. `**kwargs` can include `workers`, `use_multiprocessing`, `max_queue_size`. Do not pass these arguments to `fit()`, as they will be ignored.\n",
      "  self._warn_if_super_not_called()\n"
     ]
    },
    {
     "name": "stdout",
     "output_type": "stream",
     "text": [
      "\u001b[1m7/7\u001b[0m \u001b[32m━━━━━━━━━━━━━━━━━━━━\u001b[0m\u001b[37m\u001b[0m \u001b[1m7s\u001b[0m 908ms/step - accuracy: 0.9258 - loss: 0.4223\n"
     ]
    },
    {
     "name": "stderr",
     "output_type": "stream",
     "text": [
      "2025/07/15 12:43:05 WARNING mlflow.tensorflow: You are saving a TensorFlow Core model or Keras model without a signature. Inference with mlflow.pyfunc.spark_udf() will not work unless the model's pyfunc representation accepts pandas DataFrames as inference inputs.\n",
      "WARNING:absl:The `save_format` argument is deprecated in Keras 3. We recommend removing this argument as it can be inferred from the file path. Received: save_format=h5\n",
      "WARNING:absl:You are saving your model as an HDF5 file via `model.save()` or `keras.saving.save_model(model)`. This file format is considered legacy. We recommend using instead the native Keras format, e.g. `model.save('my_model.keras')` or `keras.saving.save_model(model, 'my_model.keras')`. \n",
      "2025/07/15 12:43:10 WARNING mlflow.utils.environment: Encountered an unexpected error while inferring pip requirements (model URI: /var/folders/nz/zx5z2c6n3sg_qy_8m51wm0_m0000gn/T/tmpimln05hp/model, flavor: tensorflow), fall back to return ['tensorflow==2.19.0']. Set logging level to DEBUG to see the full traceback.\n",
      "/Users/mahikhan/Downloads/anaconda3/envs/dlvenv/lib/python3.10/site-packages/_distutils_hack/__init__.py:30: UserWarning: Setuptools is replacing distutils. Support for replacing an already imported distutils is deprecated. In the future, this condition will fail. Register concerns at https://github.com/pypa/setuptools/issues/new?template=distutils-deprecation.yml\n",
      "  warnings.warn(\n",
      "Registered model 'VGG16Model' already exists. Creating a new version of this model...\n",
      "2025/07/15 12:43:38 INFO mlflow.tracking._model_registry.client: Waiting up to 300 seconds for model version to finish creation.                     Model name: VGG16Model, version 3\n",
      "Created version '3' of model 'VGG16Model'.\n"
     ]
    }
   ],
   "source": [
    "try:\n",
    "    config = ConfigurationManager()\n",
    "    eval_config = config.get_evaluation_config()\n",
    "    evaluation = Evaluation(eval_config)\n",
    "    evaluation.evaluation()\n",
    "    evaluation.log_into_mlflow()\n",
    "\n",
    "except Exception as e:\n",
    "   raise e"
   ]
  },
  {
   "cell_type": "code",
   "execution_count": null,
   "metadata": {},
   "outputs": [],
   "source": []
  },
  {
   "cell_type": "code",
   "execution_count": null,
   "metadata": {},
   "outputs": [],
   "source": []
  }
 ],
 "metadata": {
  "kernelspec": {
   "display_name": "kidney",
   "language": "python",
   "name": "python3"
  },
  "language_info": {
   "codemirror_mode": {
    "name": "ipython",
    "version": 3
   },
   "file_extension": ".py",
   "mimetype": "text/x-python",
   "name": "python",
   "nbconvert_exporter": "python",
   "pygments_lexer": "ipython3",
   "version": "3.10.0"
  },
  "orig_nbformat": 4
 },
 "nbformat": 4,
 "nbformat_minor": 2
}
